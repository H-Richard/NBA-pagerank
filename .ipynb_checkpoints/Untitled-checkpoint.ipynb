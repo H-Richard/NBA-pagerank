{
 "cells": [
  {
   "cell_type": "markdown",
   "metadata": {},
   "source": [
    "## PageRanking the NBA"
   ]
  },
  {
   "cell_type": "code",
   "execution_count": 4,
   "metadata": {},
   "outputs": [],
   "source": [
    "import pandas as pd\n",
    "import numpy as np "
   ]
  },
  {
   "cell_type": "code",
   "execution_count": 158,
   "metadata": {},
   "outputs": [],
   "source": [
    "games = pd.read_csv('data/2020.csv', header=0, error_bad_lines=False).drop(\n",
    "    ['Date', 'Start (ET)', 'Unnamed: 6', 'Unnamed: 7', 'Attend.', 'Notes'], axis=1)\n",
    "\n",
    "teams = np.unique(games['Visitor/Neutral'])\n",
    "assert teams.size == 30"
   ]
  },
  {
   "cell_type": "code",
   "execution_count": 139,
   "metadata": {},
   "outputs": [],
   "source": [
    "graph = pd.DataFrame(np.zeros((teams.size,teams.size)), columns=teams, index=teams)\n",
    "\n",
    "for _, game in games.iterrows():\n",
    "    t1 = game['Home/Neutral']\n",
    "    t2 = game['Visitor/Neutral']\n",
    "    if t1 == t2:\n",
    "        continue;\n",
    "    if game['PTS.1'] > game['PTS']:\n",
    "        graph.at[t1, t2] += (game['PTS.1'] /  game['PTS'])\n",
    "    else:\n",
    "        graph.at[t2, t1] += (game['PTS'] / game['PTS.1'])"
   ]
  },
  {
   "cell_type": "code",
   "execution_count": 148,
   "metadata": {},
   "outputs": [],
   "source": [
    "def pagerank(M, labels, num_iterations: int = 100, d: float = 0.85):\n",
    "    N = M.shape[1]\n",
    "    v = np.ones(N)\n",
    "    v = v / np.linalg.norm(v, 1)\n",
    "    M_hat = (d * M + (1 - d) / N)\n",
    "    for i in range(num_iterations):\n",
    "        v = M_hat @ v\n",
    "        v = v / np.linalg.norm(v, 1)\n",
    "    return pd.Series(v, index=labels, name='score')"
   ]
  },
  {
   "cell_type": "code",
   "execution_count": 161,
   "metadata": {},
   "outputs": [
    {
     "name": "stdout",
     "output_type": "stream",
     "text": [
      "Golden State Warriors     0.011937\n",
      "Chicago Bulls             0.013302\n",
      "New York Knicks           0.014330\n",
      "Charlotte Hornets         0.014902\n",
      "Cleveland Cavaliers       0.015054\n",
      "Atlanta Hawks             0.016599\n",
      "Minnesota Timberwolves    0.016933\n",
      "Detroit Pistons           0.017216\n",
      "Washington Wizards        0.018704\n",
      "Orlando Magic             0.024496\n",
      "New Orleans Pelicans      0.025438\n",
      "Sacramento Kings          0.025699\n",
      "Brooklyn Nets             0.027639\n",
      "Memphis Grizzlies         0.028050\n",
      "San Antonio Spurs         0.028699\n",
      "Phoenix Suns              0.031074\n",
      "Portland Trail Blazers    0.033836\n",
      "Indiana Pacers            0.036022\n",
      "Philadelphia 76ers        0.037121\n",
      "Oklahoma City Thunder     0.038306\n",
      "Dallas Mavericks          0.039598\n",
      "Utah Jazz                 0.041141\n",
      "Houston Rockets           0.047688\n",
      "Milwaukee Bucks           0.049555\n",
      "Toronto Raptors           0.049920\n",
      "Denver Nuggets            0.053919\n",
      "Boston Celtics            0.053968\n",
      "Los Angeles Clippers      0.056627\n",
      "Miami Heat                0.059479\n",
      "Los Angeles Lakers        0.072747\n",
      "Name: score, dtype: float64\n"
     ]
    }
   ],
   "source": [
    "rank = pagerank(graph.to_numpy(), labels=graph.index)\n",
    "ascending = rank.sort_values()\n",
    "print(ascending)"
   ]
  },
  {
   "cell_type": "code",
   "execution_count": null,
   "metadata": {},
   "outputs": [],
   "source": []
  }
 ],
 "metadata": {
  "kernelspec": {
   "display_name": "Python 3",
   "language": "python",
   "name": "python3"
  },
  "language_info": {
   "codemirror_mode": {
    "name": "ipython",
    "version": 3
   },
   "file_extension": ".py",
   "mimetype": "text/x-python",
   "name": "python",
   "nbconvert_exporter": "python",
   "pygments_lexer": "ipython3",
   "version": "3.8.2"
  }
 },
 "nbformat": 4,
 "nbformat_minor": 4
}
